{
 "cells": [
  {
   "cell_type": "code",
   "execution_count": 33,
   "metadata": {},
   "outputs": [
    {
     "name": "stdout",
     "output_type": "stream",
     "text": [
      "1\n",
      "2\n",
      "3\n",
      "1\n",
      "2\n",
      "3\n",
      "3\n",
      "4\n",
      "1 --------> 2 --------> 3 --------> 3 --------> 4 --------> 5 --------> 5 --------> 6\n",
      "8\n"
     ]
    }
   ],
   "source": [
    "class Node:\n",
    "    def __init__(self, data, next):\n",
    "        self.data = data\n",
    "        self.next = next\n",
    "        \n",
    "    \n",
    "class Linked_list:\n",
    "    def __init__(self):\n",
    "        self.head = None\n",
    "        \n",
    "    def add_data(self, data):\n",
    "        if self.head is None:\n",
    "            self.head = Node(data, None)\n",
    "            return\n",
    "        itr = self.head\n",
    "        while itr.next:\n",
    "            itr = itr.next\n",
    "            \n",
    "        itr.next = Node(data, None)\n",
    "        \n",
    "    def find_length(self):\n",
    "        if self.head is None:\n",
    "            return 0\n",
    "        count = 1\n",
    "        itr = self.head\n",
    "        while itr.next:\n",
    "            itr = itr.next\n",
    "            count += 1\n",
    "        return count\n",
    "    \n",
    "    def display_all(self):\n",
    "        if self.head is None:\n",
    "            print('list is Empty.')\n",
    "            return\n",
    "        itr = self.head\n",
    "        while itr.next:\n",
    "            print(itr.data, '--------> ', end='')\n",
    "            itr = itr.next\n",
    "        print(itr.data)\n",
    "        \n",
    "    def insert_at(self, data, indx):\n",
    "        if indx<0 or indx>self.find_length():\n",
    "            print('invalid index.')\n",
    "            return\n",
    "        count = 0\n",
    "        itr = self.head\n",
    "        while itr.next:\n",
    "            print(itr.data)\n",
    "            if count == indx - 1:\n",
    "                temp = itr.next\n",
    "                itr.next = Node(data, itr.next)\n",
    "                itr = temp\n",
    "                break\n",
    "            itr = itr.next\n",
    "            count += 1\n",
    "            \n",
    "        \n",
    "if __name__=='__main__':\n",
    "    ll = Linked_list()\n",
    "    ll.add_data(1)\n",
    "    ll.add_data(2)\n",
    "    ll.add_data(3)\n",
    "    ll.add_data(4)\n",
    "    ll.add_data(5)\n",
    "    ll.add_data(6)\n",
    "    ll.insert_at(3, 3)\n",
    "    ll.insert_at(5, 5)\n",
    "    ll.display_all()\n",
    "    print(ll.find_length())\n",
    "        "
   ]
  },
  {
   "cell_type": "code",
   "execution_count": null,
   "metadata": {},
   "outputs": [],
   "source": []
  }
 ],
 "metadata": {
  "kernelspec": {
   "display_name": "Python 3",
   "language": "python",
   "name": "python3"
  },
  "language_info": {
   "codemirror_mode": {
    "name": "ipython",
    "version": 3
   },
   "file_extension": ".py",
   "mimetype": "text/x-python",
   "name": "python",
   "nbconvert_exporter": "python",
   "pygments_lexer": "ipython3",
   "version": "3.7.6"
  }
 },
 "nbformat": 4,
 "nbformat_minor": 4
}
