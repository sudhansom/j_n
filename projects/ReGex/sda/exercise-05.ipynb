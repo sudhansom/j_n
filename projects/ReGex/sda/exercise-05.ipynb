{
 "cells": [
  {
   "cell_type": "code",
   "execution_count": 7,
   "metadata": {},
   "outputs": [
    {
     "name": "stdout",
     "output_type": "stream",
     "text": [
      "['lately.', 'other.', 'nature.', 'police.', 'Holland.', 'companion.']\n",
      "6\n"
     ]
    }
   ],
   "source": [
    "import re\n",
    "lines = []\n",
    "with open(\"holmes.txt\") as f:\n",
    "    reader = f.read()\n",
    "    ends = re.findall(\"\\w+\\.\", reader)\n",
    "    \n",
    "print(ends)\n",
    "print(len(ends))\n",
    "    "
   ]
  },
  {
   "cell_type": "code",
   "execution_count": 9,
   "metadata": {},
   "outputs": [
    {
     "name": "stdout",
     "output_type": "stream",
     "text": [
      "['The Adventure of the Blue Carbuncle', 'The Adventure of the Speckled Band', \"The Adventure of the Engineer's Thumb\", 'The Adventure of the Noble Bachelor', 'The Adventure of the Beryl Coronet']\n",
      "[<re.Match object; span=(10, 45), match='The Adventure of the Blue Carbuncle'>, <re.Match object; span=(56, 90), match='The Adventure of the Speckled Band'>, <re.Match object; span=(99, 136), match=\"The Adventure of the Engineer's Thumb\">, <re.Match object; span=(144, 179), match='The Adventure of the Noble Bachelor'>, <re.Match object; span=(188, 222), match='The Adventure of the Beryl Coronet'>]\n"
     ]
    }
   ],
   "source": [
    "import re\n",
    "lines = \"\"\"\n",
    "    VII. The Adventure of the Blue Carbuncle\n",
    "    VIII. The Adventure of the Speckled Band\n",
    "    IX. The Adventure of the Engineer's Thumb\n",
    "    X. The Adventure of the Noble Bachelor\n",
    "    XI. The Adventure of the Beryl Coronet\n",
    "\"\"\"\n",
    "matches = re.findall(\"The Adventure of [a-zA-Z' ]+\", lines)\n",
    "print(matches)\n",
    "it = re.finditer(\"The Adventure of [a-zA-Z' ]+\", lines)\n",
    "print(list(it))"
   ]
  },
  {
   "cell_type": "code",
   "execution_count": null,
   "metadata": {},
   "outputs": [],
   "source": []
  }
 ],
 "metadata": {
  "kernelspec": {
   "display_name": "Python 3",
   "language": "python",
   "name": "python3"
  },
  "language_info": {
   "codemirror_mode": {
    "name": "ipython",
    "version": 3
   },
   "file_extension": ".py",
   "mimetype": "text/x-python",
   "name": "python",
   "nbconvert_exporter": "python",
   "pygments_lexer": "ipython3",
   "version": "3.7.6"
  }
 },
 "nbformat": 4,
 "nbformat_minor": 4
}
