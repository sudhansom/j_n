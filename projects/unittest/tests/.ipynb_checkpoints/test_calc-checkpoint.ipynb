{
 "cells": [
  {
   "cell_type": "code",
   "execution_count": null,
   "metadata": {},
   "outputs": [],
   "source": [
    "import import_ipynb\n",
    "import unittest\n",
    "from program import calc\n",
    "\n",
    "class TestCalc(unittest.TestCase):\n",
    "    def test_add(self):\n",
    "        result = calc.add(10, 5)\n",
    "        self.assertEqual(result, 15)\n",
    "        \n",
    "    def test_subtract(self):\n",
    "        result = calc.subtract(10, 5)\n",
    "        self.assertEqual(result, 5)\n",
    "        \n",
    "    def test_divide(self):\n",
    "        result = calc.divide(10, 2)\n",
    "        self.assertEqual(result, 5)\n",
    "        \n",
    "if __name__ == '__main__':\n",
    "    unittest.main(argv=['first-arg-is-ignored'], exit=False)"
   ]
  }
 ],
 "metadata": {
  "kernelspec": {
   "display_name": "Python 3",
   "language": "python",
   "name": "python3"
  },
  "language_info": {
   "codemirror_mode": {
    "name": "ipython",
    "version": 3
   },
   "file_extension": ".py",
   "mimetype": "text/x-python",
   "name": "python",
   "nbconvert_exporter": "python",
   "pygments_lexer": "ipython3",
   "version": "3.7.6"
  }
 },
 "nbformat": 4,
 "nbformat_minor": 4
}
